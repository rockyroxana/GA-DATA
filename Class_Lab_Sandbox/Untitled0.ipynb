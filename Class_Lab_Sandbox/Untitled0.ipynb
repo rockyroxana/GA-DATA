{
 "metadata": {
  "name": "",
  "signature": "sha256:dbc75ab5dc0b95cf9ede0af07f0f352ab05810d5670f619c1b1d0ac318e6670c"
 },
 "nbformat": 3,
 "nbformat_minor": 0,
 "worksheets": [
  {
   "cells": [
    {
     "cell_type": "code",
     "collapsed": false,
     "input": [
      "import brewer2mpl\n",
      "from brewer2mpl import qualitative, sequential, diverging, wesanderson#, tableau\n",
      "from brewer2mpl.colormap import ColorMap"
     ],
     "language": "python",
     "metadata": {},
     "outputs": [
      {
       "ename": "ImportError",
       "evalue": "No module named colormap",
       "output_type": "pyerr",
       "traceback": [
        "\u001b[0;31m---------------------------------------------------------------------------\u001b[0m\n\u001b[0;31mImportError\u001b[0m                               Traceback (most recent call last)",
        "\u001b[0;32m<ipython-input-7-f2b19b487818>\u001b[0m in \u001b[0;36m<module>\u001b[0;34m()\u001b[0m\n\u001b[1;32m      1\u001b[0m \u001b[0;32mimport\u001b[0m \u001b[0mbrewer2mpl\u001b[0m\u001b[0;34m\u001b[0m\u001b[0m\n\u001b[1;32m      2\u001b[0m \u001b[0;32mfrom\u001b[0m \u001b[0mbrewer2mpl\u001b[0m \u001b[0;32mimport\u001b[0m \u001b[0mqualitative\u001b[0m\u001b[0;34m,\u001b[0m \u001b[0msequential\u001b[0m\u001b[0;34m,\u001b[0m \u001b[0mdiverging\u001b[0m\u001b[0;34m,\u001b[0m \u001b[0mwesanderson\u001b[0m\u001b[0;31m#, tableau\u001b[0m\u001b[0;34m\u001b[0m\u001b[0m\n\u001b[0;32m----> 3\u001b[0;31m \u001b[0;32mfrom\u001b[0m \u001b[0mbrewer2mpl\u001b[0m\u001b[0;34m.\u001b[0m\u001b[0mcolormap\u001b[0m \u001b[0;32mimport\u001b[0m \u001b[0mColorMap\u001b[0m\u001b[0;34m\u001b[0m\u001b[0m\n\u001b[0m",
        "\u001b[0;31mImportError\u001b[0m: No module named colormap"
       ]
      }
     ],
     "prompt_number": 7
    },
    {
     "cell_type": "code",
     "collapsed": false,
     "input": [
      "import brewer2mpl\n",
      "from brewer2mpl import qualitative, sequential, diverging, wesanderson, tableau\n",
      "from brewer2mpl.colormap import ColorMap"
     ],
     "language": "python",
     "metadata": {},
     "outputs": [
      {
       "ename": "ImportError",
       "evalue": "cannot import name tableau",
       "output_type": "pyerr",
       "traceback": [
        "\u001b[0;31m---------------------------------------------------------------------------\u001b[0m\n\u001b[0;31mImportError\u001b[0m                               Traceback (most recent call last)",
        "\u001b[0;32m<ipython-input-2-7a05eb9a2a6a>\u001b[0m in \u001b[0;36m<module>\u001b[0;34m()\u001b[0m\n\u001b[1;32m      1\u001b[0m \u001b[0;32mimport\u001b[0m \u001b[0mbrewer2mpl\u001b[0m\u001b[0;34m\u001b[0m\u001b[0m\n\u001b[0;32m----> 2\u001b[0;31m \u001b[0;32mfrom\u001b[0m \u001b[0mbrewer2mpl\u001b[0m \u001b[0;32mimport\u001b[0m \u001b[0mqualitative\u001b[0m\u001b[0;34m,\u001b[0m \u001b[0msequential\u001b[0m\u001b[0;34m,\u001b[0m \u001b[0mdiverging\u001b[0m\u001b[0;34m,\u001b[0m \u001b[0mwesanderson\u001b[0m\u001b[0;34m,\u001b[0m \u001b[0mtableau\u001b[0m\u001b[0;34m\u001b[0m\u001b[0m\n\u001b[0m\u001b[1;32m      3\u001b[0m \u001b[0;32mfrom\u001b[0m \u001b[0mbrewer2mpl\u001b[0m\u001b[0;34m.\u001b[0m\u001b[0mcolormap\u001b[0m \u001b[0;32mimport\u001b[0m \u001b[0mColorMap\u001b[0m\u001b[0;34m\u001b[0m\u001b[0m\n",
        "\u001b[0;31mImportError\u001b[0m: cannot import name tableau"
       ]
      }
     ],
     "prompt_number": 2
    },
    {
     "cell_type": "code",
     "collapsed": false,
     "input": [
      "bmap.colorbrewer2()"
     ],
     "language": "python",
     "metadata": {},
     "outputs": [
      {
       "ename": "NameError",
       "evalue": "name 'bmap' is not defined",
       "output_type": "pyerr",
       "traceback": [
        "\u001b[0;31m---------------------------------------------------------------------------\u001b[0m\n\u001b[0;31mNameError\u001b[0m                                 Traceback (most recent call last)",
        "\u001b[0;32m<ipython-input-2-4f3593432799>\u001b[0m in \u001b[0;36m<module>\u001b[0;34m()\u001b[0m\n\u001b[0;32m----> 1\u001b[0;31m \u001b[0mbmap\u001b[0m\u001b[0;34m.\u001b[0m\u001b[0mcolorbrewer2\u001b[0m\u001b[0;34m(\u001b[0m\u001b[0;34m)\u001b[0m\u001b[0;34m\u001b[0m\u001b[0m\n\u001b[0m",
        "\u001b[0;31mNameError\u001b[0m: name 'bmap' is not defined"
       ]
      }
     ],
     "prompt_number": 2
    },
    {
     "cell_type": "code",
     "collapsed": false,
     "input": [
      "brewer2mpl.print_maps()"
     ],
     "language": "python",
     "metadata": {},
     "outputs": [
      {
       "ename": "NameError",
       "evalue": "name 'brewer2mpl' is not defined",
       "output_type": "pyerr",
       "traceback": [
        "\u001b[0;31m---------------------------------------------------------------------------\u001b[0m\n\u001b[0;31mNameError\u001b[0m                                 Traceback (most recent call last)",
        "\u001b[0;32m<ipython-input-3-2ff10f2e9bc9>\u001b[0m in \u001b[0;36m<module>\u001b[0;34m()\u001b[0m\n\u001b[0;32m----> 1\u001b[0;31m \u001b[0mbrewer2mpl\u001b[0m\u001b[0;34m.\u001b[0m\u001b[0mprint_maps\u001b[0m\u001b[0;34m(\u001b[0m\u001b[0;34m)\u001b[0m\u001b[0;34m\u001b[0m\u001b[0m\n\u001b[0m",
        "\u001b[0;31mNameError\u001b[0m: name 'brewer2mpl' is not defined"
       ]
      }
     ],
     "prompt_number": 3
    },
    {
     "cell_type": "code",
     "collapsed": false,
     "input": [
      "import brewer2mpl"
     ],
     "language": "python",
     "metadata": {},
     "outputs": [],
     "prompt_number": 4
    },
    {
     "cell_type": "code",
     "collapsed": false,
     "input": [
      "brewer2mpl.print_maps()"
     ],
     "language": "python",
     "metadata": {},
     "outputs": [
      {
       "output_type": "stream",
       "stream": "stdout",
       "text": [
        "Sequential\n",
        "Blues     :  {3, 4, 5, 6, 7, 8, 9}\n",
        "BuGn      :  {3, 4, 5, 6, 7, 8, 9}\n",
        "BuPu      :  {3, 4, 5, 6, 7, 8, 9}\n",
        "GnBu      :  {3, 4, 5, 6, 7, 8, 9}\n",
        "Greens    :  {3, 4, 5, 6, 7, 8, 9}\n",
        "Greys     :  {3, 4, 5, 6, 7, 8, 9}\n",
        "OrRd      :  {3, 4, 5, 6, 7, 8, 9}\n",
        "Oranges   :  {3, 4, 5, 6, 7, 8, 9}\n",
        "PuBu      :  {3, 4, 5, 6, 7, 8, 9}\n",
        "PuBuGn    :  {3, 4, 5, 6, 7, 8, 9}\n",
        "PuRd      :  {3, 4, 5, 6, 7, 8, 9}\n",
        "Purples   :  {3, 4, 5, 6, 7, 8, 9}\n",
        "RdPu      :  {3, 4, 5, 6, 7, 8, 9}\n",
        "Reds      :  {3, 4, 5, 6, 7, 8, 9}\n",
        "YlGn      :  {3, 4, 5, 6, 7, 8, 9}\n",
        "YlGnBu    :  {3, 4, 5, 6, 7, 8, 9}\n",
        "YlOrBr    :  {3, 4, 5, 6, 7, 8, 9}\n",
        "YlOrRd    :  {3, 4, 5, 6, 7, 8, 9}\n",
        "Diverging\n",
        "BrBG      :  {3, 4, 5, 6, 7, 8, 9, 10, 11}\n",
        "PRGn      :  {3, 4, 5, 6, 7, 8, 9, 10, 11}\n",
        "PiYG      :  {3, 4, 5, 6, 7, 8, 9, 10, 11}\n",
        "PuOr      :  {3, 4, 5, 6, 7, 8, 9, 10, 11}\n",
        "RdBu      :  {3, 4, 5, 6, 7, 8, 9, 10, 11}\n",
        "RdGy      :  {3, 4, 5, 6, 7, 8, 9, 10, 11}\n",
        "RdYlBu    :  {3, 4, 5, 6, 7, 8, 9, 10, 11}\n",
        "RdYlGn    :  {3, 4, 5, 6, 7, 8, 9, 10, 11}\n",
        "Spectral  :  {3, 4, 5, 6, 7, 8, 9, 10, 11}\n",
        "Qualitative\n",
        "Accent    :  {3, 4, 5, 6, 7, 8}\n",
        "Dark2     :  {3, 4, 5, 6, 7, 8}\n",
        "Paired    :  {3, 4, 5, 6, 7, 8, 9, 10, 11, 12}\n",
        "Pastel1   :  {3, 4, 5, 6, 7, 8, 9}\n",
        "Pastel2   :  {3, 4, 5, 6, 7, 8}\n",
        "Set1      :  {3, 4, 5, 6, 7, 8, 9}\n",
        "Set2      :  {3, 4, 5, 6, 7, 8}\n",
        "Set3      :  {3, 4, 5, 6, 7, 8, 9, 10, 11, 12}\n"
       ]
      }
     ],
     "prompt_number": 5
    },
    {
     "cell_type": "code",
     "collapsed": false,
     "input": [
      "bmap.colorbrewer2()"
     ],
     "language": "python",
     "metadata": {},
     "outputs": [],
     "prompt_number": 11
    },
    {
     "cell_type": "code",
     "collapsed": false,
     "input": [
      "bmap = brewer2mpl.get_map('Paired', 'Qualitative', 5, reverse=True)"
     ],
     "language": "python",
     "metadata": {},
     "outputs": [],
     "prompt_number": 9
    },
    {
     "cell_type": "code",
     "collapsed": false,
     "input": [
      "bmap.colorbrewer2()"
     ],
     "language": "python",
     "metadata": {},
     "outputs": [],
     "prompt_number": 10
    },
    {
     "cell_type": "code",
     "collapsed": false,
     "input": [],
     "language": "python",
     "metadata": {},
     "outputs": []
    }
   ],
   "metadata": {}
  }
 ]
}